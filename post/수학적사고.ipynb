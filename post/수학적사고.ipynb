{
  "nbformat": 4,
  "nbformat_minor": 0,
  "metadata": {
    "colab": {
      "provenance": [],
      "authorship_tag": "ABX9TyN4ZS+dNdePYqjwIUEcGxN0",
      "include_colab_link": true
    },
    "kernelspec": {
      "name": "python3",
      "display_name": "Python 3"
    },
    "language_info": {
      "name": "python"
    }
  },
  "cells": [
    {
      "cell_type": "markdown",
      "metadata": {
        "id": "view-in-github",
        "colab_type": "text"
      },
      "source": [
        "<a href=\"https://colab.research.google.com/github/BLOOSALMON/BLOOSALMON.github.io/blob/master/post/%EC%88%98%ED%95%99%EC%A0%81%EC%82%AC%EA%B3%A0.ipynb\" target=\"_parent\"><img src=\"https://colab.research.google.com/assets/colab-badge.svg\" alt=\"Open In Colab\"/></a>"
      ]
    },
    {
      "cell_type": "code",
      "execution_count": null,
      "metadata": {
        "id": "w_qRtPE16xKo"
      },
      "outputs": [],
      "source": [
        "# 벌집\n",
        "\n",
        "시계방향으로 증가\n",
        "칸 개수 6배수 증가\n",
        "1 + 1+6*1 > 7\n",
        "7 +  6*"
      ]
    },
    {
      "cell_type": "code",
      "source": [
        "num = int(input())\n",
        "numbox = 1\n",
        "cnt = 1\n",
        "\n",
        "while num > numbox:\n",
        "  numbox += 6 * cnt\n",
        "  cnt += 1\n",
        "\n",
        "print(cnt)"
      ],
      "metadata": {
        "id": "ClqH_fIR8Jmz"
      },
      "execution_count": null,
      "outputs": []
    },
    {
      "cell_type": "code",
      "source": [
        "N = int(input())\n",
        "num = 1\n",
        "for i in range(N):\n",
        "  num += i*6\n",
        "  if N <= num:\n",
        "    print(i+1)\n",
        "    break\n"
      ],
      "metadata": {
        "id": "ABgAyfd588cj"
      },
      "execution_count": null,
      "outputs": []
    },
    {
      "cell_type": "markdown",
      "source": [
        "0413 복습\n"
      ],
      "metadata": {
        "id": "IsO_lCbIvaae"
      }
    },
    {
      "cell_type": "code",
      "source": [
        "# 진법 변환 주말 _ mine\n"
      ],
      "metadata": {
        "id": "Ch1riFqfvaK3"
      },
      "execution_count": null,
      "outputs": []
    },
    {
      "cell_type": "code",
      "source": [
        "# 분수찾기\n",
        "배열\n",
        "1/1\n",
        "1/2, 2/1\n",
        "3/1. 2/2. 1/3\n",
        "1/4, 2/3, 3/2. 4/1\n",
        "5/1, 4/2, 3/3. 2/4, 1/5\n",
        "분자 분모 숫자 규칙\n",
        "홀 : 분모 +1 / 분자 -1\n",
        "짝 : 분모 -1 / 분자 +1\n",
        "\n",
        "num = int(input()) # n 번쨰 분수\n",
        "line = 1\n",
        "\n",
        "while num > line:\n",
        "  num -= line\n",
        "  line += 1\n",
        "if line % 2 == 0:\n",
        "  a = num\n",
        "  b = line - num + 1\n",
        "\n",
        "elif line % 2 == 1:\n",
        "  a = line - num + 1\n",
        "  b = num\n",
        "\n",
        "print(f'{a}/{b}')\n",
        "\n",
        "\n"
      ],
      "metadata": {
        "id": "0BVIX_6r-DFI"
      },
      "execution_count": null,
      "outputs": []
    },
    {
      "cell_type": "code",
      "source": [
        "# 달팽이\n",
        "a, b, v = map(int,input().split())\n",
        "v // (a-b) + 1\n",
        "# 문제 실행 시간 반복문 사용 금지\n",
        "# 아침에 올라가길 성공하는 경우 아 나머지 없을 때?\n",
        "\n"
      ],
      "metadata": {
        "colab": {
          "base_uri": "https://localhost:8080/"
        },
        "id": "3qbWHynFBali",
        "outputId": "f4e36263-eeb4-4ab8-d2f8-ce304e57308d"
      },
      "execution_count": null,
      "outputs": [
        {
          "name": "stdout",
          "output_type": "stream",
          "text": [
            "5 1 6\n"
          ]
        },
        {
          "output_type": "execute_result",
          "data": {
            "text/plain": [
              "2"
            ]
          },
          "metadata": {},
          "execution_count": 3
        }
      ]
    },
    {
      "cell_type": "code",
      "source": [
        "# 달팽이\n",
        "k = (v-b) / (a-b)"
      ],
      "metadata": {
        "id": "uwc6jhKIDFHH"
      },
      "execution_count": null,
      "outputs": []
    },
    {
      "cell_type": "code",
      "source": [
        "# 배수아 약수\n",
        "n, m = map(int, input().split())\n",
        "while (1):\n",
        "  n, m = map(int, input().split())\n",
        "  if n == 0 and m == 0:\n",
        "    break\n",
        "  else:\n",
        "    if m //  n == 0:\n",
        "      print(1)\n",
        "    elif n // m == 0:\n",
        "      print(2)\n",
        "    else :\n",
        "      print(3)"
      ],
      "metadata": {
        "id": "-0Ym6atrFD_c"
      },
      "execution_count": null,
      "outputs": []
    },
    {
      "cell_type": "code",
      "source": [
        "n, k = int(input())\n"
      ],
      "metadata": {
        "id": "l87ASNTAFlCz"
      },
      "execution_count": null,
      "outputs": []
    },
    {
      "cell_type": "code",
      "source": [
        "# 약수 구하기\n",
        "n = int(input())\n",
        "list_ = [i if n / i == 0 for i in range(n)]\n",
        "for i in range()"
      ],
      "metadata": {
        "id": "-klOBQ5BFyQx"
      },
      "execution_count": null,
      "outputs": []
    },
    {
      "cell_type": "code",
      "source": [
        "def divisor(number):\n",
        "  result = []\n",
        "  for i in range(1, int(number**(1/2))+1):\n",
        "    if number % 1 == 0:\n",
        "      result.append(i)\n",
        "      if i < number //i:\n",
        "        result.append(number//i) if 15면?\n",
        "  return result\n",
        "\n",
        "\n"
      ],
      "metadata": {
        "id": "JL38vS5eL3fM"
      },
      "execution_count": null,
      "outputs": []
    },
    {
      "cell_type": "code",
      "source": [
        "while True:\n",
        "  n = int(input())\n",
        "  list_ = []\n",
        "  for i in range(1, (n+1)**1/2):\n",
        "    if n // I == 0:\n",
        "      list_.append(i)\n",
        "      if i < n//i :\n",
        "        list_.append(n//i)\n",
        "if sum(list_) == n:\n",
        "  print(n, \"=\", end=\" \")\n",
        "  for i in range(len(list_))\n",
        "  print(\"{} +\".foramt(list_[i]), end=\" \")\n"
      ],
      "metadata": {
        "id": "2PwEblVxOKsd"
      },
      "execution_count": null,
      "outputs": []
    },
    {
      "cell_type": "code",
      "source": [
        "while True:\n",
        "  n = int(input())\n",
        "  if n == -1:\n",
        "    break\n",
        "  arr = []\n",
        "  for i in rangr(1, n):\n",
        "    if n % 1 == 0:\n",
        "      arr\n",
        "\n"
      ],
      "metadata": {
        "id": "3DC1opB4QFaC"
      },
      "execution_count": null,
      "outputs": []
    },
    {
      "cell_type": "code",
      "source": [
        "while 1:\n",
        "  n = int(input())\n",
        "\n",
        "  if n == -1:\n",
        "    break;\n",
        "  num = []\n",
        "  for i in range(1, n):\n",
        "    if n % i == 0:\n",
        "      num.append(i)\n",
        "  if sum(num) == n:\n",
        "         print(n, \"=\", \"+\".join(str(i) for i in num), sep=\"\")\n"
      ],
      "metadata": {
        "colab": {
          "base_uri": "https://localhost:8080/"
        },
        "id": "TW3YcolCQn8K",
        "outputId": "47f0cde6-10e9-4b31-ef60-6406d5f4ca0d"
      },
      "execution_count": null,
      "outputs": [
        {
          "name": "stdout",
          "output_type": "stream",
          "text": [
            "6\n",
            "6=1+2+3\n",
            "-1\n"
          ]
        }
      ]
    },
    {
      "cell_type": "code",
      "source": [
        "while 1:\n",
        "  n = int(input())\n",
        "  if n == -1:\n",
        "    break\n",
        "  num = []\n",
        "  for i in range(1, n):\n",
        "    if n % 1 == 0:\n",
        "      num.append(i)\n",
        "  if sum(num) == n:\n",
        "    print(n, \"=\", \"+\".join(str(i) for i in num), sep=\"\")"
      ],
      "metadata": {
        "id": "SZTwFsEsR6nR"
      },
      "execution_count": null,
      "outputs": []
    },
    {
      "cell_type": "code",
      "source": [
        "# 소수찾기\n",
        "# 약수를 구하는 과정, 시간복잡도\n",
        "N = int(input9())\n",
        "list_ = list(map,int(input().split()))\n",
        "for i in list_:\n",
        "  list_2 = []\n",
        "  for j in range(2, i):\n",
        "    if i % j == 0:\n",
        "      break\n",
        "    else:\n"
      ],
      "metadata": {
        "id": "_IK_Ct-qraIg"
      },
      "execution_count": null,
      "outputs": []
    },
    {
      "cell_type": "code",
      "source": [
        "n = int(input())\n",
        "nums = list(map(int, input().split()))\n",
        "\n",
        "result = 0\n",
        "\n",
        "for num in nums:\n",
        "  cnt = 0\n",
        "  if num > 1:\n",
        "    for i in range(2, num):\n",
        "      if num % i == 0:\n",
        "        cnt += 1\n",
        "\n",
        "    if cnt == 0:\n",
        "      result += 1\n",
        "\n"
      ],
      "metadata": {
        "id": "TyaKwubbt3OG"
      },
      "execution_count": null,
      "outputs": []
    },
    {
      "cell_type": "code",
      "source": [
        "n = int(nput())\n",
        "nums = list(map(int, inpput().split()))\n",
        "result = 0\n",
        "\n",
        "for num in nums:\n",
        "  cnt = 0\n",
        "  if num > 1:\n",
        "    for i in range(2, num):\n",
        "      if num % i == 0:\n",
        "        cnt += 11\n",
        "      if cnt ==0:\n",
        "        result += 1\n",
        "\n",
        "print(result)"
      ],
      "metadata": {
        "id": "aMzmHdE23_FY"
      },
      "execution_count": null,
      "outputs": []
    },
    {
      "cell_type": "code",
      "source": [
        "N = int(input()) # 숫자의 개수 < 100\n",
        "list_ = list(map(int, input()))\n",
        "\n",
        "result = 0 #\n",
        "\n",
        "for i in list_:\n",
        "  for j in range(2, num+1): # 약수 자기 자신까지 확인?\n",
        "    if x % i == 0:\n",
        "        if x == i:\n",
        "          count += 1\n",
        "    break\n",
        "print(count)\n"
      ],
      "metadata": {
        "id": "HjFwasm15mSM"
      },
      "execution_count": null,
      "outputs": []
    },
    {
      "cell_type": "code",
      "source": [
        "# 소수 찾기\n",
        "M, N =\n",
        "list_ = []\n",
        "\n",
        "for i in range(M, N+1):\n",
        "  count = 0 # 나눠지는 수 카운트\n",
        "  if num > 1:\n",
        "    for j in range(2, M+1):\n",
        "      if i % j == 0:\n",
        "        count += 1 # 소수사 아님 카운트\n",
        "        break\n",
        "      if count == 0:\n",
        "        list_.append(num)\n",
        "if len(list_) > 0;\n",
        "print()\n"
      ],
      "metadata": {
        "id": "lh0L4Djr8yAK"
      },
      "execution_count": null,
      "outputs": []
    },
    {
      "cell_type": "code",
      "source": [
        "# 소인수분해\n",
        "n = int(input())\n",
        "\n",
        "if n ==1:\n",
        "  print('')\n",
        "\n",
        "for i in range(2, n+1):\n",
        "  if n%i == 0:\n",
        "    while n % i -- 0:\n",
        "      print(i)\n",
        "      n = n / i\n",
        "\n"
      ],
      "metadata": {
        "id": "O_uVBXQ1_pAd"
      },
      "execution_count": null,
      "outputs": []
    },
    {
      "cell_type": "code",
      "source": [
        "# 직사각형\n",
        "a, b =\n",
        "print(a*b)"
      ],
      "metadata": {
        "id": "8b0L7xq5CNOB"
      },
      "execution_count": null,
      "outputs": []
    },
    {
      "cell_type": "code",
      "source": [
        "a, b, c = map(int(input))\n",
        "0간ㅇ\n",
        "얏수 ㅅ삼각형 줄여 ?\n",
        "둘레 ㄷ최대\n",
        "큰 둘레 추력\n"
      ],
      "metadata": {
        "id": "4ENEcrf6Cvwb"
      },
      "execution_count": null,
      "outputs": []
    },
    {
      "cell_type": "code",
      "source": [
        "삼각형 나머지 둘레 길이 작아야 만듦\n",
        "arr = list(map(int, input().split()))\n",
        "arr.sort()\n",
        "a, b, c = arr\n",
        "if a + b <= c:\n",
        "  c = a + b -1\n",
        "print(a+b+c)\n",
        "# sort , 삼각형의 조건에 맞게 잘라, 둘레\n"
      ],
      "metadata": {
        "id": "qwF5tlQcC4VT"
      },
      "execution_count": null,
      "outputs": []
    },
    {
      "cell_type": "code",
      "source": [
        "# 5073\n",
        "arr = list(map(int, input().split()))\n",
        "arr.sort()\n",
        "a, b, c = arr\n",
        "if a + b <= c:\n",
        "  print(in)\n",
        "if a == b and b == c:\n",
        "  print(Equilateral)\n",
        "elif\n",
        "\n",
        "if"
      ],
      "metadata": {
        "id": "Pn7ty9j9Ed4o"
      },
      "execution_count": null,
      "outputs": []
    },
    {
      "cell_type": "code",
      "source": [
        "# 대지 정답\n",
        "각 좌표 모음, 최대 차 최소 차 곱\n",
        "import sys\n",
        "imput sys.stdln.readline\n",
        "x_list = []\n",
        "y_list = []\n",
        "\n",
        "for _ in range(int(input)):\n",
        "  x, y = map\n"
      ],
      "metadata": {
        "id": "4F824X_QFlzg"
      },
      "execution_count": null,
      "outputs": []
    },
    {
      "cell_type": "code",
      "source": [],
      "metadata": {
        "id": "zpF1s_NZGkGn"
      },
      "execution_count": null,
      "outputs": []
    }
  ]
}